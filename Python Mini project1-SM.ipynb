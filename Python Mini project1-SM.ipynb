{
 "cells": [
  {
   "cell_type": "code",
   "execution_count": 41,
   "metadata": {},
   "outputs": [
    {
     "name": "stdout",
     "output_type": "stream",
     "text": [
      "Player 1 make your selection (rock, paper, scissors): rock\n",
      "Player 2 make your selection (rock, paper, scissors): rock\n",
      "\n",
      "Its a tie both players selected + {player1} \n"
     ]
    }
   ],
   "source": [
    "##STEVIE MATTHEW ROCK,PAPER, SCISSORS MINI PROJECT\n",
    "\n",
    "player1 = input (\"Player 1 make your selection (rock, paper, scissors): \")\n",
    "\n",
    "player2 = input (\"Player 2 make your selection (rock, paper, scissors): \")\n",
    "print()\n",
    "\n",
    "if player1 == player2:\n",
    "    print(\"Its a tie \")\n",
    "elif player1 == \"rock\":\n",
    "    if player2 == \"scissors\":\n",
    "        print(\"Rock crushes scissors! Player 1 wins!\")\n",
    "    else:\n",
    "        print(\"Paper covers rock! Player 2 wins!\")\n",
    "elif player1 == \"paper\":\n",
    "    if player2 == \"rock\":\n",
    "        print(\"Paper covers rock! Player 1 wins!\")\n",
    "    else:\n",
    "        print(\"Scissors cut paper! Player 2 wins!\")\n",
    "elif player1 == \"scissors\":\n",
    "    if player2 == \"paper\":\n",
    "        print(\"Scissors cut paper! Player 1 wins!\")\n",
    "    else:\n",
    "        print(\"Rock crushes scissors! Player 2 wins!\")\n",
    "        \n",
    "else:\n",
    "    print(\"Invalid selection check spelling\")\n",
    "    \n",
    "    "
   ]
  },
  {
   "cell_type": "code",
   "execution_count": null,
   "metadata": {},
   "outputs": [],
   "source": []
  },
  {
   "cell_type": "code",
   "execution_count": null,
   "metadata": {},
   "outputs": [],
   "source": []
  },
  {
   "cell_type": "code",
   "execution_count": null,
   "metadata": {},
   "outputs": [],
   "source": []
  },
  {
   "cell_type": "code",
   "execution_count": null,
   "metadata": {},
   "outputs": [],
   "source": []
  }
 ],
 "metadata": {
  "kernelspec": {
   "display_name": "Python 3",
   "language": "python",
   "name": "python3"
  },
  "language_info": {
   "codemirror_mode": {
    "name": "ipython",
    "version": 3
   },
   "file_extension": ".py",
   "mimetype": "text/x-python",
   "name": "python",
   "nbconvert_exporter": "python",
   "pygments_lexer": "ipython3",
   "version": "3.8.5"
  }
 },
 "nbformat": 4,
 "nbformat_minor": 4
}
